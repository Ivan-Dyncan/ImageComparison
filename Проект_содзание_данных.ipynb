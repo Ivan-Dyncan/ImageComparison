{
  "nbformat": 4,
  "nbformat_minor": 0,
  "metadata": {
    "colab": {
      "provenance": [],
      "authorship_tag": "ABX9TyNQkhhNR0EyVC5Kt4EVEqXl",
      "include_colab_link": true
    },
    "kernelspec": {
      "name": "python3",
      "display_name": "Python 3"
    },
    "language_info": {
      "name": "python"
    }
  },
  "cells": [
    {
      "cell_type": "markdown",
      "metadata": {
        "id": "view-in-github",
        "colab_type": "text"
      },
      "source": [
        "<a href=\"https://colab.research.google.com/github/Ivan-Dyncan/ImageComparison/blob/main/%D0%9F%D1%80%D0%BE%D0%B5%D0%BA%D1%82_%D1%81%D0%BE%D0%B4%D0%B7%D0%B0%D0%BD%D0%B8%D0%B5_%D0%B4%D0%B0%D0%BD%D0%BD%D1%8B%D1%85.ipynb\" target=\"_parent\"><img src=\"https://colab.research.google.com/assets/colab-badge.svg\" alt=\"Open In Colab\"/></a>"
      ]
    },
    {
      "cell_type": "markdown",
      "source": [
        "Генератор"
      ],
      "metadata": {
        "id": "vsUXrkjLyV5r"
      }
    },
    {
      "cell_type": "code",
      "source": [
        "import cv2\n",
        "import numpy as np\n",
        "import random as rm\n",
        "from google.colab.patches import cv2_imshow\n",
        "import string\n",
        "\n",
        "\n",
        "def random_point(img_shape):\n",
        "  return (rm.randint(0,img_shape[0]), rm.randint(0,img_shape[1]))\n",
        "\n",
        "\n",
        "def random_color(a=0, b=240):\n",
        "  return (rm.randint(a, b), rm.randint(a, b), rm.randint(a, b))\n",
        "\n",
        "\n",
        "def triangle(img, color):\n",
        "    points = [random_point(img.shape) for i in range(3)]\n",
        "    cv2.fillPoly(img, [np.array(points)], color)\n",
        "\n",
        "\n",
        "def figure_creator(img):\n",
        "  possible_figures = [\"rectangle\", \"circle\", \"triangle\"]\n",
        "  figure = rm.choice(possible_figures)\n",
        "  sh = img.shape\n",
        "\n",
        "  if figure == \"rectangle\":\n",
        "    cv2.rectangle(img, random_point(sh), random_point(sh), random_color(), thickness=cv2.FILLED)\n",
        "  if figure == \"circle\":\n",
        "    center = random_point(sh)\n",
        "    cv2.circle(img, center, rm.randint(0, min(center[0], center[1], sh[0]-center[0], sh[1]-center[1])), random_color(), thickness=cv2.FILLED)\n",
        "  if figure == \"triangle\":\n",
        "    triangle(img, random_color())\n",
        "\n",
        "\n",
        "def line_creator(img):\n",
        "  sh = img.shape\n",
        "  cv2.line(img, random_point(sh), random_point(sh), random_color(), 3)\n",
        "\n",
        "\n",
        "def text_creator(img):\n",
        "  letters = string.ascii_lowercase\n",
        "  sh = img.shape\n",
        "  cv2.putText(img, ''.join(rm.choice(letters) for i in range(rm.randint(1,5))), random_point(sh),cv2.FONT_HERSHEY_COMPLEX, 2, random_color())\n",
        "\n",
        "\n",
        "def imgs_creator(sh, comand):\n",
        "  comand = [(v[0], int(v[1:])) for v in comand.split()]\n",
        "  dict_of_methods = {\"f\": figure_creator, \"l\": line_creator, \"t\": text_creator}\n",
        "  res = []\n",
        "\n",
        "  img = np.ones(sh)\n",
        "  for c in comand:\n",
        "    for count in range(c[1]):\n",
        "      dict_of_methods[c[0]](img)\n",
        "    res.append(img.copy())\n",
        "\n",
        "  cv2_imshow(img)\n",
        "  return res"
      ],
      "metadata": {
        "id": "kVs026CeH32W"
      },
      "execution_count": null,
      "outputs": []
    },
    {
      "cell_type": "markdown",
      "source": [
        "Сохраняющий картинки метод"
      ],
      "metadata": {
        "id": "bzTfXA5vucn5"
      }
    },
    {
      "cell_type": "code",
      "source": [
        "import os.path\n",
        "\n",
        "def save_images(images, folder_name=\"media\"):\n",
        "  f_name = f\"/{folder_name}/count_of_same_sample.txt\"\n",
        "  if not os.path.exists(f_name):\n",
        "    open(f_name, 'w').write(\"0\")\n",
        "  \n",
        "  count_of_same_images = int(open(f_name, 'r').read(1))\n",
        "\n",
        "  for i in range(len(images)):\n",
        "    cv2.imwrite(f\"/{folder_name}/sample{count_of_same_images}_{i}.jpg\", images[i])\n",
        "  \n",
        "  open(f_name, 'w').write(str(count_of_same_images+1))"
      ],
      "metadata": {
        "id": "69ElQBUYJq7y"
      },
      "execution_count": null,
      "outputs": []
    },
    {
      "cell_type": "markdown",
      "source": [
        "Запустите, чтобы сгенерировать <br>\n",
        "Первый параметр, размеры картинок, 2ой - команды по созданию, где f-создать фигуру(треугольник, прямоугольник или круг), l-создать линию, t-создать текстовую строку. Числа после букв - это в каком каличестве будут созданы объекты, например f13 создаст 13 фигур <br>\n",
        "От количества команд будет зависить, сколько картинок будет сохранено, например \"f2 t3\" создаст 2 картинки, на первой будет изображены 2 фигуры, на 2ой будт фигуры с прошлой картинки и + 3 надписи"
      ],
      "metadata": {
        "id": "UTl8wai4unyh"
      }
    },
    {
      "cell_type": "code",
      "source": [
        "images = imgs_creator((500,500,3), \"f1 f3 t2 t5\")"
      ],
      "metadata": {
        "colab": {
          "base_uri": "https://localhost:8080/",
          "height": 517
        },
        "id": "gE__eoXxwrdn",
        "outputId": "b03cced5-10a3-4678-96bc-63be38d25337"
      },
      "execution_count": null,
      "outputs": [
        {
          "output_type": "display_data",
          "data": {
            "text/plain": [
              "<PIL.Image.Image image mode=RGB size=500x500 at 0x7F4756CE6430>"
            ],
            "image/png": "[encoded data removed]"
          },
          "metadata": {}
        }
      ]
    },
    {
      "cell_type": "code",
      "source": [
        "save_images(images)"
      ],
      "metadata": {
        "id": "YkF8DtIKw52B"
      },
      "execution_count": null,
      "outputs": []
    }
  ]
}